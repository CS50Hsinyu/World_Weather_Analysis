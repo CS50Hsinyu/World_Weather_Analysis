{
 "cells": [
  {
   "cell_type": "markdown",
   "metadata": {},
   "source": [
    "## Deliverable 3. Create a Travel Itinerary Map."
   ]
  },
  {
   "cell_type": "code",
   "execution_count": 1,
   "metadata": {},
   "outputs": [],
   "source": [
    "# Dependencies and Setup\n",
    "import pandas as pd\n",
    "import requests\n",
    "import gmaps\n",
    "import gmaps.datasets\n",
    "\n",
    "# Import API key\n",
    "from config import g_key\n",
    "\n",
    "# Configure gmaps\n",
    "gmaps.configure(api_key=g_key)"
   ]
  },
  {
   "cell_type": "code",
   "execution_count": 2,
   "metadata": {},
   "outputs": [
    {
     "data": {
      "text/html": [
       "<div>\n",
       "<style scoped>\n",
       "    .dataframe tbody tr th:only-of-type {\n",
       "        vertical-align: middle;\n",
       "    }\n",
       "\n",
       "    .dataframe tbody tr th {\n",
       "        vertical-align: top;\n",
       "    }\n",
       "\n",
       "    .dataframe thead th {\n",
       "        text-align: right;\n",
       "    }\n",
       "</style>\n",
       "<table border=\"1\" class=\"dataframe\">\n",
       "  <thead>\n",
       "    <tr style=\"text-align: right;\">\n",
       "      <th></th>\n",
       "      <th>City_ID</th>\n",
       "      <th>City</th>\n",
       "      <th>Country</th>\n",
       "      <th>Max Temp</th>\n",
       "      <th>Current Description</th>\n",
       "      <th>Lat</th>\n",
       "      <th>Lng</th>\n",
       "      <th>Hotel Name</th>\n",
       "    </tr>\n",
       "  </thead>\n",
       "  <tbody>\n",
       "    <tr>\n",
       "      <th>0</th>\n",
       "      <td>0</td>\n",
       "      <td>Meulaboh</td>\n",
       "      <td>ID</td>\n",
       "      <td>84.06</td>\n",
       "      <td>scattered clouds</td>\n",
       "      <td>4.1363</td>\n",
       "      <td>96.1285</td>\n",
       "      <td>Kost Pria</td>\n",
       "    </tr>\n",
       "    <tr>\n",
       "      <th>1</th>\n",
       "      <td>1</td>\n",
       "      <td>Trairi</td>\n",
       "      <td>BR</td>\n",
       "      <td>76.66</td>\n",
       "      <td>overcast clouds</td>\n",
       "      <td>-3.2778</td>\n",
       "      <td>-39.2689</td>\n",
       "      <td>janelas do mar</td>\n",
       "    </tr>\n",
       "    <tr>\n",
       "      <th>2</th>\n",
       "      <td>4</td>\n",
       "      <td>Cape Town</td>\n",
       "      <td>ZA</td>\n",
       "      <td>66.20</td>\n",
       "      <td>broken clouds</td>\n",
       "      <td>-33.9258</td>\n",
       "      <td>18.4232</td>\n",
       "      <td>Southern Sun Waterfront Cape Town</td>\n",
       "    </tr>\n",
       "    <tr>\n",
       "      <th>3</th>\n",
       "      <td>5</td>\n",
       "      <td>Hermanus</td>\n",
       "      <td>ZA</td>\n",
       "      <td>63.00</td>\n",
       "      <td>overcast clouds</td>\n",
       "      <td>-34.4187</td>\n",
       "      <td>19.2345</td>\n",
       "      <td>Misty Waves Boutique Hotel</td>\n",
       "    </tr>\n",
       "    <tr>\n",
       "      <th>4</th>\n",
       "      <td>6</td>\n",
       "      <td>Butaritari</td>\n",
       "      <td>KI</td>\n",
       "      <td>80.91</td>\n",
       "      <td>overcast clouds</td>\n",
       "      <td>3.0707</td>\n",
       "      <td>172.7902</td>\n",
       "      <td>Isles Sunset Lodge</td>\n",
       "    </tr>\n",
       "  </tbody>\n",
       "</table>\n",
       "</div>"
      ],
      "text/plain": [
       "   City_ID        City Country  Max Temp Current Description      Lat  \\\n",
       "0        0    Meulaboh      ID     84.06    scattered clouds   4.1363   \n",
       "1        1      Trairi      BR     76.66     overcast clouds  -3.2778   \n",
       "2        4   Cape Town      ZA     66.20       broken clouds -33.9258   \n",
       "3        5    Hermanus      ZA     63.00     overcast clouds -34.4187   \n",
       "4        6  Butaritari      KI     80.91     overcast clouds   3.0707   \n",
       "\n",
       "        Lng                         Hotel Name  \n",
       "0   96.1285                          Kost Pria  \n",
       "1  -39.2689                     janelas do mar  \n",
       "2   18.4232  Southern Sun Waterfront Cape Town  \n",
       "3   19.2345         Misty Waves Boutique Hotel  \n",
       "4  172.7902                 Isles Sunset Lodge  "
      ]
     },
     "execution_count": 2,
     "metadata": {},
     "output_type": "execute_result"
    }
   ],
   "source": [
    "# 1. Read the WeatherPy_vacation.csv into a DataFrame.\n",
    "vacation_df = pd.read_csv(\"../Vacation_Search/WeatherPy_vacation.csv\")\n",
    "vacation_df.head()"
   ]
  },
  {
   "cell_type": "code",
   "execution_count": 3,
   "metadata": {},
   "outputs": [],
   "source": [
    "# 2. Using the template add the city name, the country code, the weather description and maximum temperature for the city.\n",
    "info_box_template = \"\"\"\n",
    "<dl>\n",
    "<dt>Hotel Name</dt><dd>{Hotel Name}</dd>\n",
    "<dt>City</dt><dd>{City}</dd>\n",
    "<dt>Country</dt><dd>{Country}</dd>\n",
    "<dt>Current Weather</dt><dd>{Current Description} and {Max Temp}°F</dd>\n",
    "</dl>\n",
    "\"\"\"\n",
    "\n",
    "# 3a. Get the data from each row and add it to the formatting template and store the data in a list.\n",
    "hotel_info = [info_box_template.format(**row) for index, row in vacation_df.iterrows()]\n",
    "\n",
    "# 3b. Get the latitude and longitude from each row and store in a new DataFrame.\n",
    "locations = vacation_df[[\"Lat\", \"Lng\"]]"
   ]
  },
  {
   "cell_type": "code",
   "execution_count": 4,
   "metadata": {},
   "outputs": [
    {
     "data": {
      "application/vnd.jupyter.widget-view+json": {
       "model_id": "873a9170556b4a179f8c00e87defb241",
       "version_major": 2,
       "version_minor": 0
      },
      "text/plain": [
       "Figure(layout=FigureLayout(height='420px'))"
      ]
     },
     "metadata": {},
     "output_type": "display_data"
    }
   ],
   "source": [
    "# 4a. Add a marker layer for each city to the map.\n",
    "fig = gmaps.figure(center=(30.0, 31.0), zoom_level=1)\n",
    "heat_layer = gmaps.heatmap_layer(locations,dissipating=False,\n",
    "             max_intensity=300, point_radius=4)\n",
    "marker_layer = gmaps.marker_layer(locations, info_box_content=hotel_info)\n",
    "fig.add_layer(heat_layer)\n",
    "fig.add_layer(marker_layer)\n",
    "\n",
    "# 4b. Display the figure\n",
    "fig\n"
   ]
  },
  {
   "cell_type": "code",
   "execution_count": 5,
   "metadata": {},
   "outputs": [],
   "source": [
    "# From the map above pick 4 cities and create a vacation itinerary route to travel between the four cities. \n",
    "# 5. Create DataFrames for each city by filtering the 'vacation_df' using the loc method. \n",
    "# Hint: The starting and ending city should be the same city.\n",
    "\n",
    "vacation_start = pd.DataFrame(vacation_df.loc[(vacation_df[\"City\"]==\"Flinders\")&(vacation_df[\"Country\"]==\"AU\")])\n",
    "vacation_end = pd.DataFrame(vacation_df.loc[(vacation_df[\"City\"]==\"Flinders\")&(vacation_df[\"Country\"]==\"AU\")])\n",
    "vacation_stop1 = pd.DataFrame(vacation_df.loc[(vacation_df[\"City\"]==\"Nelson Bay\")&(vacation_df[\"Country\"]==\"AU\")])\n",
    "vacation_stop2 = pd.DataFrame(vacation_df.loc[(vacation_df[\"City\"]==\"Sawtell\")&(vacation_df[\"Country\"]==\"AU\")])\n",
    "vacation_stop3 = pd.DataFrame(vacation_df.loc[(vacation_df[\"City\"]==\"Dubbo\")&(vacation_df[\"Country\"]==\"AU\")])\n"
   ]
  },
  {
   "cell_type": "code",
   "execution_count": 6,
   "metadata": {},
   "outputs": [],
   "source": [
    "# 6. Get the latitude-longitude pairs as tuples from each city DataFrame using the to_numpy function and list indexing.\n",
    "start = vacation_start.to_numpy()[0][5:7]\n",
    "end = vacation_end.to_numpy()[0][5:7]\n",
    "stop1 = vacation_stop1.to_numpy()[0][5:7]\n",
    "stop2 = vacation_stop2.to_numpy()[0][5:7]\n",
    "stop3 = vacation_stop3.to_numpy()[0][5:7]"
   ]
  },
  {
   "cell_type": "code",
   "execution_count": 7,
   "metadata": {
    "scrolled": true
   },
   "outputs": [
    {
     "data": {
      "application/vnd.jupyter.widget-view+json": {
       "model_id": "3a7894870aee4b6b898650bce45dfd79",
       "version_major": 2,
       "version_minor": 0
      },
      "text/plain": [
       "Figure(layout=FigureLayout(height='420px'))"
      ]
     },
     "metadata": {},
     "output_type": "display_data"
    }
   ],
   "source": [
    "# 7. Create a direction layer map using the start and end latitude-longitude pairs,\n",
    "# and stop1, stop2, and stop3 as the waypoints. The travel_mode should be \"DRIVING\", \"BICYCLING\", or \"WALKING\".\n",
    "fig = gmaps.figure(center=(30.00, 31.00), zoom_level=1)\n",
    "vacation_itinerary = gmaps.directions_layer(start,end, waypoints=[stop1,stop2,stop3], travel_mode='DRIVING')\n",
    "fig.add_layer(vacation_itinerary)\n",
    "fig"
   ]
  },
  {
   "cell_type": "code",
   "execution_count": 8,
   "metadata": {},
   "outputs": [
    {
     "data": {
      "text/html": [
       "<div>\n",
       "<style scoped>\n",
       "    .dataframe tbody tr th:only-of-type {\n",
       "        vertical-align: middle;\n",
       "    }\n",
       "\n",
       "    .dataframe tbody tr th {\n",
       "        vertical-align: top;\n",
       "    }\n",
       "\n",
       "    .dataframe thead th {\n",
       "        text-align: right;\n",
       "    }\n",
       "</style>\n",
       "<table border=\"1\" class=\"dataframe\">\n",
       "  <thead>\n",
       "    <tr style=\"text-align: right;\">\n",
       "      <th></th>\n",
       "      <th>City_ID</th>\n",
       "      <th>City</th>\n",
       "      <th>Country</th>\n",
       "      <th>Max Temp</th>\n",
       "      <th>Current Description</th>\n",
       "      <th>Lat</th>\n",
       "      <th>Lng</th>\n",
       "      <th>Hotel Name</th>\n",
       "    </tr>\n",
       "  </thead>\n",
       "  <tbody>\n",
       "    <tr>\n",
       "      <th>0</th>\n",
       "      <td>654</td>\n",
       "      <td>Flinders</td>\n",
       "      <td>AU</td>\n",
       "      <td>62.01</td>\n",
       "      <td>light rain</td>\n",
       "      <td>-34.5833</td>\n",
       "      <td>150.8552</td>\n",
       "      <td>Shellharbour Resort &amp; Conference Centre</td>\n",
       "    </tr>\n",
       "    <tr>\n",
       "      <th>1</th>\n",
       "      <td>408</td>\n",
       "      <td>Nelson Bay</td>\n",
       "      <td>AU</td>\n",
       "      <td>66.99</td>\n",
       "      <td>light rain</td>\n",
       "      <td>-32.7167</td>\n",
       "      <td>152.1500</td>\n",
       "      <td>Mantra Nelson Bay</td>\n",
       "    </tr>\n",
       "    <tr>\n",
       "      <th>2</th>\n",
       "      <td>299</td>\n",
       "      <td>Sawtell</td>\n",
       "      <td>AU</td>\n",
       "      <td>80.60</td>\n",
       "      <td>broken clouds</td>\n",
       "      <td>-30.3833</td>\n",
       "      <td>153.1000</td>\n",
       "      <td>Island Beach House Sawtell</td>\n",
       "    </tr>\n",
       "    <tr>\n",
       "      <th>3</th>\n",
       "      <td>345</td>\n",
       "      <td>Dubbo</td>\n",
       "      <td>AU</td>\n",
       "      <td>64.40</td>\n",
       "      <td>light rain</td>\n",
       "      <td>-32.2500</td>\n",
       "      <td>148.6167</td>\n",
       "      <td>Comfort Inn Blue Lagoon</td>\n",
       "    </tr>\n",
       "    <tr>\n",
       "      <th>4</th>\n",
       "      <td>654</td>\n",
       "      <td>Flinders</td>\n",
       "      <td>AU</td>\n",
       "      <td>62.01</td>\n",
       "      <td>light rain</td>\n",
       "      <td>-34.5833</td>\n",
       "      <td>150.8552</td>\n",
       "      <td>Shellharbour Resort &amp; Conference Centre</td>\n",
       "    </tr>\n",
       "  </tbody>\n",
       "</table>\n",
       "</div>"
      ],
      "text/plain": [
       "   City_ID        City Country  Max Temp Current Description      Lat  \\\n",
       "0      654    Flinders      AU     62.01          light rain -34.5833   \n",
       "1      408  Nelson Bay      AU     66.99          light rain -32.7167   \n",
       "2      299     Sawtell      AU     80.60       broken clouds -30.3833   \n",
       "3      345       Dubbo      AU     64.40          light rain -32.2500   \n",
       "4      654    Flinders      AU     62.01          light rain -34.5833   \n",
       "\n",
       "        Lng                               Hotel Name  \n",
       "0  150.8552  Shellharbour Resort & Conference Centre  \n",
       "1  152.1500                        Mantra Nelson Bay  \n",
       "2  153.1000               Island Beach House Sawtell  \n",
       "3  148.6167                  Comfort Inn Blue Lagoon  \n",
       "4  150.8552  Shellharbour Resort & Conference Centre  "
      ]
     },
     "execution_count": 8,
     "metadata": {},
     "output_type": "execute_result"
    }
   ],
   "source": [
    "# 8. To create a marker layer map between the four cities.\n",
    "#  Combine the four city DataFrames into one DataFrame using the concat() function.\n",
    "\n",
    "#,columns=[\"City_ID\",\"City\",\"Country\",\"Max Temp\",\"Current Description\",\"Lat\",\"Lng\",\"Hotel Name\"]\n",
    "itinerary_df = pd.concat([vacation_start,vacation_stop1,vacation_stop2,vacation_stop3,vacation_end],ignore_index=True)\n",
    "itinerary_df\n"
   ]
  },
  {
   "cell_type": "code",
   "execution_count": 9,
   "metadata": {},
   "outputs": [],
   "source": [
    "# 9 Using the template add city name, the country code, the weather description and maximum temperature for the city. \n",
    "info_box_template = \"\"\"\n",
    "<dl>\n",
    "<dt>Hotel Name</dt><dd>{Hotel Name}</dd>\n",
    "<dt>City</dt><dd>{City}</dd>\n",
    "<dt>Country</dt><dd>{Country}</dd>\n",
    "<dt>Current Weather</dt><dd>{Current Description} and {Max Temp}°F</dd>\n",
    "</dl>\n",
    "\"\"\"\n",
    "\n",
    "# 10a Get the data from each row and add it to the formatting template and store the data in a list.\n",
    "hotel_info = [info_box_template.format(**row) for index, row in itinerary_df.iterrows()]\n",
    "\n",
    "# 10b. Get the latitude and longitude from each row and store in a new DataFrame.\n",
    "itinerary_locations = itinerary_df[[\"Lat\", \"Lng\"]]"
   ]
  },
  {
   "cell_type": "code",
   "execution_count": 10,
   "metadata": {},
   "outputs": [
    {
     "data": {
      "application/vnd.jupyter.widget-view+json": {
       "model_id": "72dccee510b846cbad28ac5876410c5a",
       "version_major": 2,
       "version_minor": 0
      },
      "text/plain": [
       "Figure(layout=FigureLayout(height='420px'))"
      ]
     },
     "metadata": {},
     "output_type": "display_data"
    }
   ],
   "source": [
    "# 11a. Add a marker layer for each city to the map.\n",
    "fig = gmaps.figure(center=(30.0, 31.0), zoom_level=1)\n",
    "heat_layer = gmaps.heatmap_layer(locations,dissipating=False,\n",
    "             max_intensity=300, point_radius=4)\n",
    "marker_layer = gmaps.marker_layer(itinerary_locations, info_box_content=hotel_info)\n",
    "fig.add_layer(heat_layer)\n",
    "fig.add_layer(marker_layer)\n",
    "# 11b. Display the figure\n",
    "fig"
   ]
  },
  {
   "cell_type": "code",
   "execution_count": null,
   "metadata": {},
   "outputs": [],
   "source": []
  }
 ],
 "metadata": {
  "kernelspec": {
   "display_name": "PythonData",
   "language": "python",
   "name": "pythondata"
  },
  "language_info": {
   "codemirror_mode": {
    "name": "ipython",
    "version": 3
   },
   "file_extension": ".py",
   "mimetype": "text/x-python",
   "name": "python",
   "nbconvert_exporter": "python",
   "pygments_lexer": "ipython3",
   "version": "3.7.9"
  },
  "latex_envs": {
   "LaTeX_envs_menu_present": true,
   "autoclose": false,
   "autocomplete": true,
   "bibliofile": "biblio.bib",
   "cite_by": "apalike",
   "current_citInitial": 1,
   "eqLabelWithNumbers": true,
   "eqNumInitial": 1,
   "hotkeys": {
    "equation": "Ctrl-E",
    "itemize": "Ctrl-I"
   },
   "labels_anchors": false,
   "latex_user_defs": false,
   "report_style_numbering": false,
   "user_envs_cfg": false
  }
 },
 "nbformat": 4,
 "nbformat_minor": 2
}
